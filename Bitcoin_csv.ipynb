{
  "nbformat": 4,
  "nbformat_minor": 0,
  "metadata": {
    "colab": {
      "name": "Bitcoin_csv.ipynb",
      "provenance": [],
      "collapsed_sections": []
    },
    "kernelspec": {
      "name": "python3",
      "display_name": "Python 3"
    },
    "language_info": {
      "name": "python"
    }
  },
  "cells": [
    {
      "cell_type": "markdown",
      "source": [
        "Importing the modules"
      ],
      "metadata": {
        "id": "AOPfvKiGuYTn"
      }
    },
    {
      "cell_type": "code",
      "source": [
        "import pandas as pd\n",
        "import numpy as np\n",
        "import matplotlib.pyplot as plt\n",
        "import pandas_datareader.data as web\n",
        "\n",
        "!pip install yfinance  --upgrade --no-cache-dir\n",
        "import yfinance as yf\n",
        "yf.pdr_override()"
      ],
      "metadata": {
        "id": "3gYCyJpauWff"
      },
      "execution_count": null,
      "outputs": []
    },
    {
      "cell_type": "markdown",
      "source": [
        "Getting the values of BTC_EUR"
      ],
      "metadata": {
        "id": "1H_vm8kYuoIR"
      }
    },
    {
      "cell_type": "code",
      "source": [
        "start = '2022-01-28'\n",
        "bitcoin = web.get_data_yahoo('BTC-EUR', start=start)['Close']\n",
        "date_bitcoin = bitcoin.index\n"
      ],
      "metadata": {
        "id": "1ZI68HL6GDMI"
      },
      "execution_count": null,
      "outputs": []
    },
    {
      "cell_type": "markdown",
      "source": [
        "Ploting the graph "
      ],
      "metadata": {
        "id": "fygHnug3u00U"
      }
    },
    {
      "cell_type": "code",
      "source": [
        "bitcoin.plot()\n"
      ],
      "metadata": {
        "id": "h9SAqAZgGTHN",
        "colab": {
          "base_uri": "https://localhost:8080/",
          "height": 320
        },
        "outputId": "d8b8f0a2-b304-450a-d04d-32fadd9d8b26"
      },
      "execution_count": null,
      "outputs": [
        {
          "output_type": "execute_result",
          "data": {
            "text/plain": [
              "<matplotlib.axes._subplots.AxesSubplot at 0x7f6b74f3dd90>"
            ]
          },
          "metadata": {},
          "execution_count": 43
        },
        {
          "output_type": "display_data",
          "data": {
            "image/png": "[encoded data removed]",
            "text/plain": [
              "<Figure size 432x288 with 1 Axes>"
            ]
          },
          "metadata": {
            "needs_background": "light"
          }
        }
      ]
    },
    {
      "cell_type": "markdown",
      "source": [
        "I created the function for calculate the percentage between the days"
      ],
      "metadata": {
        "id": "ytN1vb3Cu9Hg"
      }
    },
    {
      "cell_type": "code",
      "source": [
        "def percentage(yesterday, today):\n",
        "  value = (today * 100) / yesterday\n",
        "  if value > 100:\n",
        "    value = value - 100\n",
        "    return (f\"+{value:.4f}%\")\n",
        "  else:\n",
        "    value = 100 - value \n",
        "    return (f\"-{value:.4f}%\")\n",
        "  \n"
      ],
      "metadata": {
        "id": "wWXpnSf0GVvG"
      },
      "execution_count": null,
      "outputs": []
    },
    {
      "cell_type": "markdown",
      "source": [
        "Saving the rates in the archer eur_btc_rates.csv"
      ],
      "metadata": {
        "id": "dd1zDJiZyXj1"
      }
    },
    {
      "cell_type": "code",
      "source": [
        "import csv\n",
        "with open('./eur_btc_rates.csv', 'w') as csvfile:\n",
        "  writer = csv.writer(csvfile, delimiter=',')\n",
        "  writer.writerow(['Date', 'Close', 'Rate'])\n",
        "  i = 0\n",
        "  while i < 10:\n",
        "    if i !=0:\n",
        "      writer.writerow([date_bitcoin[i], bitcoin[i], percentage(bitcoin[i-1], bitcoin[i])])\n",
        "    else:\n",
        "      writer.writerow([date_bitcoin[i], bitcoin[i], '--'] )\n",
        "    i += 1"
      ],
      "metadata": {
        "id": "11mVIdu7QSkH"
      },
      "execution_count": null,
      "outputs": []
    },
    {
      "cell_type": "markdown",
      "source": [
        "Show the rates saved in the archer"
      ],
      "metadata": {
        "id": "xi-GoIx9yrAC"
      }
    },
    {
      "cell_type": "code",
      "source": [
        "with open('./eur_btc_rates.csv') as csvfile:\n",
        "    for x in csv.reader(csvfile):\n",
        "      print(x)"
      ],
      "metadata": {
        "id": "o-d4EVKhR8YW",
        "colab": {
          "base_uri": "https://localhost:8080/"
        },
        "outputId": "7499f47c-1ce3-42c9-c777-a7b803797b4e"
      },
      "execution_count": null,
      "outputs": [
        {
          "output_type": "stream",
          "name": "stdout",
          "text": [
            "['Date', 'Close', 'Rate']\n",
            "['2022-01-28 00:00:00', '33889.109375', '--']\n",
            "['2022-01-29 00:00:00', '34206.4765625', '+0.9365%']\n",
            "['2022-01-30 00:00:00', '33999.8046875', '-0.6042%']\n",
            "['2022-01-31 00:00:00', '34270.41796875', '+0.7959%']\n",
            "['2022-02-01 00:00:00', '34367.76171875', '+0.2840%']\n",
            "['2022-02-02 00:00:00', '32702.763671875', '-4.8447%']\n",
            "['2022-02-03 00:00:00', '32490.47265625', '-0.6492%']\n",
            "['2022-02-04 00:00:00', '36247.984375', '+11.5650%']\n",
            "['2022-02-05 00:00:00', '36195.83203125', '-0.1439%']\n",
            "['2022-02-06 00:00:00', '37026.60546875', '+2.2952%']\n"
          ]
        }
      ]
    }
  ]
}